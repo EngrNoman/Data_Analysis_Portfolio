{
 "cells": [
  {
   "cell_type": "code",
   "execution_count": 88,
   "id": "d30073bc-6b41-47d0-8fdf-83ab1edf2289",
   "metadata": {},
   "outputs": [],
   "source": [
    "import pandas as pd\n",
    "from datetime import datetime\n",
    "import numpy as np"
   ]
  },
  {
   "cell_type": "code",
   "execution_count": 34,
   "id": "12c1f2e8-2a1d-45c2-8e88-d943bc382c1e",
   "metadata": {},
   "outputs": [
    {
     "data": {
      "text/html": [
       "<div>\n",
       "<style scoped>\n",
       "    .dataframe tbody tr th:only-of-type {\n",
       "        vertical-align: middle;\n",
       "    }\n",
       "\n",
       "    .dataframe tbody tr th {\n",
       "        vertical-align: top;\n",
       "    }\n",
       "\n",
       "    .dataframe thead th {\n",
       "        text-align: right;\n",
       "    }\n",
       "</style>\n",
       "<table border=\"1\" class=\"dataframe\">\n",
       "  <thead>\n",
       "    <tr style=\"text-align: right;\">\n",
       "      <th></th>\n",
       "      <th>TRIP_ID</th>\n",
       "      <th>CALL_TYPE</th>\n",
       "      <th>ORIGIN_CALL</th>\n",
       "      <th>ORIGIN_STAND</th>\n",
       "      <th>TAXI_ID</th>\n",
       "      <th>TIMESTAMP</th>\n",
       "      <th>DAY_TYPE</th>\n",
       "      <th>MISSING_DATA</th>\n",
       "      <th>POLYLINE</th>\n",
       "    </tr>\n",
       "  </thead>\n",
       "  <tbody>\n",
       "    <tr>\n",
       "      <th>1710665</th>\n",
       "      <td>1404171463620000698</td>\n",
       "      <td>C</td>\n",
       "      <td>NaN</td>\n",
       "      <td>NaN</td>\n",
       "      <td>20000698</td>\n",
       "      <td>1404171463</td>\n",
       "      <td>A</td>\n",
       "      <td>False</td>\n",
       "      <td>[[-8.612469,41.14602],[-8.612487,41.145993],[-...</td>\n",
       "    </tr>\n",
       "    <tr>\n",
       "      <th>1710666</th>\n",
       "      <td>1404171367620000670</td>\n",
       "      <td>C</td>\n",
       "      <td>NaN</td>\n",
       "      <td>NaN</td>\n",
       "      <td>20000670</td>\n",
       "      <td>1404171367</td>\n",
       "      <td>A</td>\n",
       "      <td>False</td>\n",
       "      <td>[[-8.610138,41.140845],[-8.610174,41.140935],[...</td>\n",
       "    </tr>\n",
       "    <tr>\n",
       "      <th>1710667</th>\n",
       "      <td>1388745716620000264</td>\n",
       "      <td>C</td>\n",
       "      <td>NaN</td>\n",
       "      <td>NaN</td>\n",
       "      <td>20000264</td>\n",
       "      <td>1388745716</td>\n",
       "      <td>A</td>\n",
       "      <td>False</td>\n",
       "      <td>[]</td>\n",
       "    </tr>\n",
       "    <tr>\n",
       "      <th>1710668</th>\n",
       "      <td>1404141826620000248</td>\n",
       "      <td>B</td>\n",
       "      <td>NaN</td>\n",
       "      <td>12.0</td>\n",
       "      <td>20000248</td>\n",
       "      <td>1404141826</td>\n",
       "      <td>A</td>\n",
       "      <td>False</td>\n",
       "      <td>[[-8.630712,41.154885],[-8.63073,41.154813],[-...</td>\n",
       "    </tr>\n",
       "    <tr>\n",
       "      <th>1710669</th>\n",
       "      <td>1404157147620000079</td>\n",
       "      <td>B</td>\n",
       "      <td>NaN</td>\n",
       "      <td>34.0</td>\n",
       "      <td>20000079</td>\n",
       "      <td>1404157147</td>\n",
       "      <td>A</td>\n",
       "      <td>False</td>\n",
       "      <td>[[-8.615538,41.140629],[-8.615421,41.140746],[...</td>\n",
       "    </tr>\n",
       "  </tbody>\n",
       "</table>\n",
       "</div>"
      ],
      "text/plain": [
       "                     TRIP_ID CALL_TYPE  ORIGIN_CALL  ORIGIN_STAND   TAXI_ID  \\\n",
       "1710665  1404171463620000698         C          NaN           NaN  20000698   \n",
       "1710666  1404171367620000670         C          NaN           NaN  20000670   \n",
       "1710667  1388745716620000264         C          NaN           NaN  20000264   \n",
       "1710668  1404141826620000248         B          NaN          12.0  20000248   \n",
       "1710669  1404157147620000079         B          NaN          34.0  20000079   \n",
       "\n",
       "          TIMESTAMP DAY_TYPE  MISSING_DATA  \\\n",
       "1710665  1404171463        A         False   \n",
       "1710666  1404171367        A         False   \n",
       "1710667  1388745716        A         False   \n",
       "1710668  1404141826        A         False   \n",
       "1710669  1404157147        A         False   \n",
       "\n",
       "                                                  POLYLINE  \n",
       "1710665  [[-8.612469,41.14602],[-8.612487,41.145993],[-...  \n",
       "1710666  [[-8.610138,41.140845],[-8.610174,41.140935],[...  \n",
       "1710667                                                 []  \n",
       "1710668  [[-8.630712,41.154885],[-8.63073,41.154813],[-...  \n",
       "1710669  [[-8.615538,41.140629],[-8.615421,41.140746],[...  "
      ]
     },
     "execution_count": 34,
     "metadata": {},
     "output_type": "execute_result"
    }
   ],
   "source": [
    "df = pd.read_csv('train.csv/train.csv')\n",
    "df.tail()"
   ]
  },
  {
   "cell_type": "markdown",
   "id": "dddfe661-fbdd-46ef-966b-9aa4640c867b",
   "metadata": {},
   "source": [
    "✅ Step 1: Load & Explore the Data"
   ]
  },
  {
   "cell_type": "code",
   "execution_count": 10,
   "id": "46359297-b911-45b7-bd38-432f7c5af01b",
   "metadata": {},
   "outputs": [
    {
     "name": "stdout",
     "output_type": "stream",
     "text": [
      "<class 'pandas.core.frame.DataFrame'>\n",
      "RangeIndex: 1710670 entries, 0 to 1710669\n",
      "Data columns (total 9 columns):\n",
      " #   Column        Dtype  \n",
      "---  ------        -----  \n",
      " 0   TRIP_ID       int64  \n",
      " 1   CALL_TYPE     object \n",
      " 2   ORIGIN_CALL   float64\n",
      " 3   ORIGIN_STAND  float64\n",
      " 4   TAXI_ID       int64  \n",
      " 5   TIMESTAMP     int64  \n",
      " 6   DAY_TYPE      object \n",
      " 7   MISSING_DATA  bool   \n",
      " 8   POLYLINE      object \n",
      "dtypes: bool(1), float64(2), int64(3), object(3)\n",
      "memory usage: 106.0+ MB\n",
      "None\n",
      "             TRIP_ID CALL_TYPE    ORIGIN_CALL   ORIGIN_STAND       TAXI_ID  \\\n",
      "count   1.710670e+06   1710670  364770.000000  806579.000000  1.710670e+06   \n",
      "unique           NaN         3            NaN            NaN           NaN   \n",
      "top              NaN         B            NaN            NaN           NaN   \n",
      "freq             NaN    817881            NaN            NaN           NaN   \n",
      "mean    1.388622e+18       NaN   24490.363018      30.272381  2.000035e+07   \n",
      "std     9.180944e+15       NaN   19624.290043      17.747840  2.112405e+02   \n",
      "min     1.372637e+18       NaN    2001.000000       1.000000  2.000000e+07   \n",
      "25%     1.380731e+18       NaN    6593.000000      15.000000  2.000017e+07   \n",
      "50%     1.388493e+18       NaN   18755.000000      27.000000  2.000034e+07   \n",
      "75%     1.396750e+18       NaN   40808.000000      49.000000  2.000052e+07   \n",
      "max     1.404173e+18       NaN   63884.000000      63.000000  2.000098e+07   \n",
      "\n",
      "           TIMESTAMP DAY_TYPE MISSING_DATA POLYLINE  \n",
      "count   1.710670e+06  1710670      1710670  1710670  \n",
      "unique           NaN        1            2  1703650  \n",
      "top              NaN        A        False       []  \n",
      "freq             NaN  1710670      1710660     5901  \n",
      "mean    1.388622e+09      NaN          NaN      NaN  \n",
      "std     9.180944e+06      NaN          NaN      NaN  \n",
      "min     1.372637e+09      NaN          NaN      NaN  \n",
      "25%     1.380731e+09      NaN          NaN      NaN  \n",
      "50%     1.388493e+09      NaN          NaN      NaN  \n",
      "75%     1.396750e+09      NaN          NaN      NaN  \n",
      "max     1.404173e+09      NaN          NaN      NaN  \n"
     ]
    }
   ],
   "source": [
    "print(df.info())\n",
    "print(df.describe(include='all'))"
   ]
  },
  {
   "cell_type": "code",
   "execution_count": 12,
   "id": "7f611b40-7445-4623-a159-435fe6cebe94",
   "metadata": {
    "scrolled": true
   },
   "outputs": [
    {
     "data": {
      "text/plain": [
       "TRIP_ID               0\n",
       "CALL_TYPE             0\n",
       "ORIGIN_CALL     1345900\n",
       "ORIGIN_STAND     904091\n",
       "TAXI_ID               0\n",
       "TIMESTAMP             0\n",
       "DAY_TYPE              0\n",
       "MISSING_DATA          0\n",
       "POLYLINE              0\n",
       "dtype: int64"
      ]
     },
     "execution_count": 12,
     "metadata": {},
     "output_type": "execute_result"
    }
   ],
   "source": [
    "df.isnull().sum()"
   ]
  },
  {
   "cell_type": "code",
   "execution_count": 82,
   "id": "b4006bc5-036f-4c99-9d15-7c25f14e5af6",
   "metadata": {},
   "outputs": [
    {
     "data": {
      "text/plain": [
       "TRIP_ID                  int64\n",
       "CALL_TYPE             category\n",
       "ORIGIN_CALL             object\n",
       "ORIGIN_STAND            object\n",
       "TAXI_ID                  int64\n",
       "TIMESTAMP       datetime64[ns]\n",
       "DAY_TYPE              category\n",
       "MISSING_DATA              bool\n",
       "POLYLINE                object\n",
       "dtype: object"
      ]
     },
     "execution_count": 82,
     "metadata": {},
     "output_type": "execute_result"
    }
   ],
   "source": [
    "df.dtypes"
   ]
  },
  {
   "cell_type": "code",
   "execution_count": 16,
   "id": "55d5371d-d029-4347-84b2-8c5797c0b7a9",
   "metadata": {},
   "outputs": [
    {
     "data": {
      "text/plain": [
       "3"
      ]
     },
     "execution_count": 16,
     "metadata": {},
     "output_type": "execute_result"
    }
   ],
   "source": [
    "df.duplicated().sum()"
   ]
  },
  {
   "cell_type": "code",
   "execution_count": 18,
   "id": "8dc3dbac-5f75-4355-ba39-df5962a2d2be",
   "metadata": {},
   "outputs": [
    {
     "name": "stdout",
     "output_type": "stream",
     "text": [
      "TRIP_ID          0.000000\n",
      "CALL_TYPE        0.000000\n",
      "ORIGIN_CALL     78.676776\n",
      "ORIGIN_STAND    52.850111\n",
      "TAXI_ID          0.000000\n",
      "TIMESTAMP        0.000000\n",
      "DAY_TYPE         0.000000\n",
      "MISSING_DATA     0.000000\n",
      "POLYLINE         0.000000\n",
      "dtype: float64\n"
     ]
    }
   ],
   "source": [
    "total_rows = len(df)\n",
    "missing_percentage = (df.isnull().sum() / total_rows) * 100\n",
    "print(missing_percentage)"
   ]
  },
  {
   "cell_type": "code",
   "execution_count": 46,
   "id": "be2758b3-638d-4e25-9c3d-fb6dabcbef12",
   "metadata": {},
   "outputs": [],
   "source": [
    "df['ORIGIN_CALL'] = df['ORIGIN_CALL'].astype('object')\n",
    "df['ORIGIN_CALL'] = df['ORIGIN_CALL'].fillna(\"Street Hailed\")"
   ]
  },
  {
   "cell_type": "code",
   "execution_count": 44,
   "id": "4774352d-9bb0-4cf3-afd3-55d239d24be9",
   "metadata": {},
   "outputs": [],
   "source": [
    "df['ORIGIN_STAND'] = df['ORIGIN_STAND'].astype('object')\n",
    "df['ORIGIN_STAND'] = df['ORIGIN_STAND'].fillna(\"Not from Taxi Stand\")\n"
   ]
  },
  {
   "cell_type": "code",
   "execution_count": 52,
   "id": "8f28e812-dab8-4090-bb52-ed7d63b235ea",
   "metadata": {},
   "outputs": [
    {
     "data": {
      "text/html": [
       "<div>\n",
       "<style scoped>\n",
       "    .dataframe tbody tr th:only-of-type {\n",
       "        vertical-align: middle;\n",
       "    }\n",
       "\n",
       "    .dataframe tbody tr th {\n",
       "        vertical-align: top;\n",
       "    }\n",
       "\n",
       "    .dataframe thead th {\n",
       "        text-align: right;\n",
       "    }\n",
       "</style>\n",
       "<table border=\"1\" class=\"dataframe\">\n",
       "  <thead>\n",
       "    <tr style=\"text-align: right;\">\n",
       "      <th></th>\n",
       "      <th>TRIP_ID</th>\n",
       "      <th>CALL_TYPE</th>\n",
       "      <th>ORIGIN_CALL</th>\n",
       "      <th>ORIGIN_STAND</th>\n",
       "      <th>TAXI_ID</th>\n",
       "      <th>TIMESTAMP</th>\n",
       "      <th>DAY_TYPE</th>\n",
       "      <th>MISSING_DATA</th>\n",
       "      <th>POLYLINE</th>\n",
       "    </tr>\n",
       "  </thead>\n",
       "  <tbody>\n",
       "    <tr>\n",
       "      <th>0</th>\n",
       "      <td>1372636858620000589</td>\n",
       "      <td>C</td>\n",
       "      <td>Street Hailed</td>\n",
       "      <td>Not from Taxi Stand</td>\n",
       "      <td>20000589</td>\n",
       "      <td>1372636858</td>\n",
       "      <td>A</td>\n",
       "      <td>False</td>\n",
       "      <td>[[-8.618643,41.141412],[-8.618499,41.141376],[...</td>\n",
       "    </tr>\n",
       "    <tr>\n",
       "      <th>1</th>\n",
       "      <td>1372637303620000596</td>\n",
       "      <td>B</td>\n",
       "      <td>Street Hailed</td>\n",
       "      <td>7.0</td>\n",
       "      <td>20000596</td>\n",
       "      <td>1372637303</td>\n",
       "      <td>A</td>\n",
       "      <td>False</td>\n",
       "      <td>[[-8.639847,41.159826],[-8.640351,41.159871],[...</td>\n",
       "    </tr>\n",
       "    <tr>\n",
       "      <th>2</th>\n",
       "      <td>1372636951620000320</td>\n",
       "      <td>C</td>\n",
       "      <td>Street Hailed</td>\n",
       "      <td>Not from Taxi Stand</td>\n",
       "      <td>20000320</td>\n",
       "      <td>1372636951</td>\n",
       "      <td>A</td>\n",
       "      <td>False</td>\n",
       "      <td>[[-8.612964,41.140359],[-8.613378,41.14035],[-...</td>\n",
       "    </tr>\n",
       "    <tr>\n",
       "      <th>3</th>\n",
       "      <td>1372636854620000520</td>\n",
       "      <td>C</td>\n",
       "      <td>Street Hailed</td>\n",
       "      <td>Not from Taxi Stand</td>\n",
       "      <td>20000520</td>\n",
       "      <td>1372636854</td>\n",
       "      <td>A</td>\n",
       "      <td>False</td>\n",
       "      <td>[[-8.574678,41.151951],[-8.574705,41.151942],[...</td>\n",
       "    </tr>\n",
       "    <tr>\n",
       "      <th>4</th>\n",
       "      <td>1372637091620000337</td>\n",
       "      <td>C</td>\n",
       "      <td>Street Hailed</td>\n",
       "      <td>Not from Taxi Stand</td>\n",
       "      <td>20000337</td>\n",
       "      <td>1372637091</td>\n",
       "      <td>A</td>\n",
       "      <td>False</td>\n",
       "      <td>[[-8.645994,41.18049],[-8.645949,41.180517],[-...</td>\n",
       "    </tr>\n",
       "  </tbody>\n",
       "</table>\n",
       "</div>"
      ],
      "text/plain": [
       "               TRIP_ID CALL_TYPE    ORIGIN_CALL         ORIGIN_STAND  \\\n",
       "0  1372636858620000589         C  Street Hailed  Not from Taxi Stand   \n",
       "1  1372637303620000596         B  Street Hailed                  7.0   \n",
       "2  1372636951620000320         C  Street Hailed  Not from Taxi Stand   \n",
       "3  1372636854620000520         C  Street Hailed  Not from Taxi Stand   \n",
       "4  1372637091620000337         C  Street Hailed  Not from Taxi Stand   \n",
       "\n",
       "    TAXI_ID   TIMESTAMP DAY_TYPE  MISSING_DATA  \\\n",
       "0  20000589  1372636858        A         False   \n",
       "1  20000596  1372637303        A         False   \n",
       "2  20000320  1372636951        A         False   \n",
       "3  20000520  1372636854        A         False   \n",
       "4  20000337  1372637091        A         False   \n",
       "\n",
       "                                            POLYLINE  \n",
       "0  [[-8.618643,41.141412],[-8.618499,41.141376],[...  \n",
       "1  [[-8.639847,41.159826],[-8.640351,41.159871],[...  \n",
       "2  [[-8.612964,41.140359],[-8.613378,41.14035],[-...  \n",
       "3  [[-8.574678,41.151951],[-8.574705,41.151942],[...  \n",
       "4  [[-8.645994,41.18049],[-8.645949,41.180517],[-...  "
      ]
     },
     "execution_count": 52,
     "metadata": {},
     "output_type": "execute_result"
    }
   ],
   "source": [
    "df.head()"
   ]
  },
  {
   "cell_type": "code",
   "execution_count": 50,
   "id": "28f5d2b8-4c9f-45a2-840a-088929c20c5b",
   "metadata": {},
   "outputs": [],
   "source": [
    "df = df[df[\"POLYLINE\"].notna()]"
   ]
  },
  {
   "cell_type": "markdown",
   "id": "144c1b43-2834-430b-b9bb-4ead2ad3c618",
   "metadata": {},
   "source": [
    "✅ Step 3: Convert Data Types"
   ]
  },
  {
   "cell_type": "code",
   "execution_count": 61,
   "id": "9c51cea4-be3b-4efe-aeee-c56d671db186",
   "metadata": {},
   "outputs": [],
   "source": [
    "df['TIMESTAMP'] = pd.to_datetime(df['TIMESTAMP'] , unit ='s')"
   ]
  },
  {
   "cell_type": "code",
   "execution_count": 65,
   "id": "e7f59781-9d0d-4be0-b0b1-3db689c9f686",
   "metadata": {},
   "outputs": [],
   "source": [
    "df[\"MISSING_DATA\"] = df[\"MISSING_DATA\"].astype(bool)"
   ]
  },
  {
   "cell_type": "code",
   "execution_count": 71,
   "id": "b915078e-06e9-4f06-9e60-f755e9847d32",
   "metadata": {},
   "outputs": [],
   "source": [
    "df['CALL_TYPE'] = df['CALL_TYPE'].astype('category')"
   ]
  },
  {
   "cell_type": "code",
   "execution_count": 80,
   "id": "19b7e20f-98a5-4016-a437-9543a5aad89c",
   "metadata": {},
   "outputs": [],
   "source": [
    "df[\"DAY_TYPE\"] = df[\"DAY_TYPE\"].astype(\"category\")"
   ]
  },
  {
   "cell_type": "code",
   "execution_count": 121,
   "id": "3ec9ad1b-48e9-4bf2-a670-78cae9a04b80",
   "metadata": {},
   "outputs": [
    {
     "data": {
      "text/html": [
       "<div>\n",
       "<style scoped>\n",
       "    .dataframe tbody tr th:only-of-type {\n",
       "        vertical-align: middle;\n",
       "    }\n",
       "\n",
       "    .dataframe tbody tr th {\n",
       "        vertical-align: top;\n",
       "    }\n",
       "\n",
       "    .dataframe thead th {\n",
       "        text-align: right;\n",
       "    }\n",
       "</style>\n",
       "<table border=\"1\" class=\"dataframe\">\n",
       "  <thead>\n",
       "    <tr style=\"text-align: right;\">\n",
       "      <th></th>\n",
       "      <th>TRIP_ID</th>\n",
       "      <th>CALL_TYPE</th>\n",
       "      <th>ORIGIN_CALL</th>\n",
       "      <th>ORIGIN_STAND</th>\n",
       "      <th>TAXI_ID</th>\n",
       "      <th>TIMESTAMP</th>\n",
       "      <th>DAY_TYPE</th>\n",
       "      <th>MISSING_DATA</th>\n",
       "      <th>POLYLINE</th>\n",
       "      <th>trip_duration</th>\n",
       "      <th>hour</th>\n",
       "      <th>day_of_week</th>\n",
       "      <th>rush_hour</th>\n",
       "    </tr>\n",
       "  </thead>\n",
       "  <tbody>\n",
       "    <tr>\n",
       "      <th>0</th>\n",
       "      <td>1372636858620000589</td>\n",
       "      <td>C</td>\n",
       "      <td>Street Hailed</td>\n",
       "      <td>Not from Taxi Stand</td>\n",
       "      <td>20000589</td>\n",
       "      <td>2013-07-01 00:00:58</td>\n",
       "      <td>A</td>\n",
       "      <td>False</td>\n",
       "      <td>[[-8.618643,41.141412],[-8.618499,41.141376],[...</td>\n",
       "      <td>345</td>\n",
       "      <td>0</td>\n",
       "      <td>Monday</td>\n",
       "      <td>0</td>\n",
       "    </tr>\n",
       "    <tr>\n",
       "      <th>1</th>\n",
       "      <td>1372637303620000596</td>\n",
       "      <td>B</td>\n",
       "      <td>Street Hailed</td>\n",
       "      <td>7.0</td>\n",
       "      <td>20000596</td>\n",
       "      <td>2013-07-01 00:08:23</td>\n",
       "      <td>A</td>\n",
       "      <td>False</td>\n",
       "      <td>[[-8.639847,41.159826],[-8.640351,41.159871],[...</td>\n",
       "      <td>285</td>\n",
       "      <td>0</td>\n",
       "      <td>Monday</td>\n",
       "      <td>0</td>\n",
       "    </tr>\n",
       "    <tr>\n",
       "      <th>2</th>\n",
       "      <td>1372636951620000320</td>\n",
       "      <td>C</td>\n",
       "      <td>Street Hailed</td>\n",
       "      <td>Not from Taxi Stand</td>\n",
       "      <td>20000320</td>\n",
       "      <td>2013-07-01 00:02:31</td>\n",
       "      <td>A</td>\n",
       "      <td>False</td>\n",
       "      <td>[[-8.612964,41.140359],[-8.613378,41.14035],[-...</td>\n",
       "      <td>975</td>\n",
       "      <td>0</td>\n",
       "      <td>Monday</td>\n",
       "      <td>0</td>\n",
       "    </tr>\n",
       "    <tr>\n",
       "      <th>3</th>\n",
       "      <td>1372636854620000520</td>\n",
       "      <td>C</td>\n",
       "      <td>Street Hailed</td>\n",
       "      <td>Not from Taxi Stand</td>\n",
       "      <td>20000520</td>\n",
       "      <td>2013-07-01 00:00:54</td>\n",
       "      <td>A</td>\n",
       "      <td>False</td>\n",
       "      <td>[[-8.574678,41.151951],[-8.574705,41.151942],[...</td>\n",
       "      <td>645</td>\n",
       "      <td>0</td>\n",
       "      <td>Monday</td>\n",
       "      <td>0</td>\n",
       "    </tr>\n",
       "    <tr>\n",
       "      <th>4</th>\n",
       "      <td>1372637091620000337</td>\n",
       "      <td>C</td>\n",
       "      <td>Street Hailed</td>\n",
       "      <td>Not from Taxi Stand</td>\n",
       "      <td>20000337</td>\n",
       "      <td>2013-07-01 00:04:51</td>\n",
       "      <td>A</td>\n",
       "      <td>False</td>\n",
       "      <td>[[-8.645994,41.18049],[-8.645949,41.180517],[-...</td>\n",
       "      <td>435</td>\n",
       "      <td>0</td>\n",
       "      <td>Monday</td>\n",
       "      <td>0</td>\n",
       "    </tr>\n",
       "  </tbody>\n",
       "</table>\n",
       "</div>"
      ],
      "text/plain": [
       "               TRIP_ID CALL_TYPE    ORIGIN_CALL         ORIGIN_STAND  \\\n",
       "0  1372636858620000589         C  Street Hailed  Not from Taxi Stand   \n",
       "1  1372637303620000596         B  Street Hailed                  7.0   \n",
       "2  1372636951620000320         C  Street Hailed  Not from Taxi Stand   \n",
       "3  1372636854620000520         C  Street Hailed  Not from Taxi Stand   \n",
       "4  1372637091620000337         C  Street Hailed  Not from Taxi Stand   \n",
       "\n",
       "    TAXI_ID           TIMESTAMP DAY_TYPE  MISSING_DATA  \\\n",
       "0  20000589 2013-07-01 00:00:58        A         False   \n",
       "1  20000596 2013-07-01 00:08:23        A         False   \n",
       "2  20000320 2013-07-01 00:02:31        A         False   \n",
       "3  20000520 2013-07-01 00:00:54        A         False   \n",
       "4  20000337 2013-07-01 00:04:51        A         False   \n",
       "\n",
       "                                            POLYLINE  trip_duration  hour  \\\n",
       "0  [[-8.618643,41.141412],[-8.618499,41.141376],[...            345     0   \n",
       "1  [[-8.639847,41.159826],[-8.640351,41.159871],[...            285     0   \n",
       "2  [[-8.612964,41.140359],[-8.613378,41.14035],[-...            975     0   \n",
       "3  [[-8.574678,41.151951],[-8.574705,41.151942],[...            645     0   \n",
       "4  [[-8.645994,41.18049],[-8.645949,41.180517],[-...            435     0   \n",
       "\n",
       "  day_of_week  rush_hour  \n",
       "0      Monday          0  \n",
       "1      Monday          0  \n",
       "2      Monday          0  \n",
       "3      Monday          0  \n",
       "4      Monday          0  "
      ]
     },
     "execution_count": 121,
     "metadata": {},
     "output_type": "execute_result"
    }
   ],
   "source": [
    "df.head()"
   ]
  },
  {
   "cell_type": "code",
   "execution_count": 84,
   "id": "db7fd661-ac83-42ce-98f7-65f6cc3bb501",
   "metadata": {},
   "outputs": [
    {
     "name": "stdout",
     "output_type": "stream",
     "text": [
      "Duplicate Rows: 3\n"
     ]
    }
   ],
   "source": [
    "print(f\"Duplicate Rows: {df.duplicated().sum()}\")\n"
   ]
  },
  {
   "cell_type": "code",
   "execution_count": 86,
   "id": "6e606021-cf37-4a89-b5b8-c00bfe98fbba",
   "metadata": {},
   "outputs": [],
   "source": [
    "df = df.drop_duplicates()"
   ]
  },
  {
   "cell_type": "code",
   "execution_count": 113,
   "id": "1c3792b8-37ee-4f93-84d0-c2d2fb4532c6",
   "metadata": {},
   "outputs": [
    {
     "data": {
      "text/plain": [
       "(1631890, 10)"
      ]
     },
     "execution_count": 113,
     "metadata": {},
     "output_type": "execute_result"
    }
   ],
   "source": [
    "df.shape"
   ]
  },
  {
   "cell_type": "markdown",
   "id": "d9d4c814-d17c-4c29-b0a3-e53046fdd0ef",
   "metadata": {},
   "source": [
    "✅ Step 5: Handle Outliers"
   ]
  },
  {
   "cell_type": "code",
   "execution_count": 100,
   "id": "b16770f8-27db-41fe-80ed-f18044575e5e",
   "metadata": {},
   "outputs": [],
   "source": [
    "# Extract trip duration from POLYLINE (each point is recorded every 15 sec)\n",
    "df[\"trip_duration\"] = df[\"POLYLINE\"].apply(lambda x: len(eval(x)) * 15)"
   ]
  },
  {
   "cell_type": "code",
   "execution_count": 109,
   "id": "721ca6f7-2f89-4c73-848f-eec683d8e425",
   "metadata": {},
   "outputs": [],
   "source": [
    "# Calculate IQR for trip duration\n",
    "Q1 = df[\"trip_duration\"].quantile(0.25)\n",
    "Q3 = df[\"trip_duration\"].quantile(0.75)\n",
    "IQR = Q3 - Q1\n",
    "lower_bound = Q1 - 1.5 * IQR\n",
    "upper_bound = Q3 + 1.5 * IQR\n",
    "# Remove extreme trip durations\n",
    "df = df[(df[\"trip_duration\"] >= lower_bound) & (df[\"trip_duration\"] <= upper_bound)]"
   ]
  },
  {
   "cell_type": "markdown",
   "id": "69c19576-04e0-461b-b3d3-d052ed6aa172",
   "metadata": {},
   "source": [
    "✅ Step 6: Extract Useful Features"
   ]
  },
  {
   "cell_type": "code",
   "execution_count": 115,
   "id": "37cb2f53-c099-4085-b553-605379018eb2",
   "metadata": {},
   "outputs": [
    {
     "name": "stderr",
     "output_type": "stream",
     "text": [
      "C:\\Users\\Engr Noman Mahmood\\AppData\\Local\\Temp\\ipykernel_2652\\614650881.py:2: SettingWithCopyWarning: \n",
      "A value is trying to be set on a copy of a slice from a DataFrame.\n",
      "Try using .loc[row_indexer,col_indexer] = value instead\n",
      "\n",
      "See the caveats in the documentation: https://pandas.pydata.org/pandas-docs/stable/user_guide/indexing.html#returning-a-view-versus-a-copy\n",
      "  df['hour'] = df['TIMESTAMP'].dt.hour\n",
      "C:\\Users\\Engr Noman Mahmood\\AppData\\Local\\Temp\\ipykernel_2652\\614650881.py:3: SettingWithCopyWarning: \n",
      "A value is trying to be set on a copy of a slice from a DataFrame.\n",
      "Try using .loc[row_indexer,col_indexer] = value instead\n",
      "\n",
      "See the caveats in the documentation: https://pandas.pydata.org/pandas-docs/stable/user_guide/indexing.html#returning-a-view-versus-a-copy\n",
      "  df['day_of_week'] = df['TIMESTAMP'].dt.day_name()\n"
     ]
    }
   ],
   "source": [
    "# Extract time-related features\n",
    "df['hour'] = df['TIMESTAMP'].dt.hour\n",
    "df['day_of_week'] = df['TIMESTAMP'].dt.day_name()"
   ]
  },
  {
   "cell_type": "code",
   "execution_count": 119,
   "id": "93b2a297-23fe-4b47-bbe7-e114fe9dd1cc",
   "metadata": {},
   "outputs": [
    {
     "name": "stderr",
     "output_type": "stream",
     "text": [
      "C:\\Users\\Engr Noman Mahmood\\AppData\\Local\\Temp\\ipykernel_2652\\2380360289.py:2: SettingWithCopyWarning: \n",
      "A value is trying to be set on a copy of a slice from a DataFrame.\n",
      "Try using .loc[row_indexer,col_indexer] = value instead\n",
      "\n",
      "See the caveats in the documentation: https://pandas.pydata.org/pandas-docs/stable/user_guide/indexing.html#returning-a-view-versus-a-copy\n",
      "  df[\"rush_hour\"] = df[\"hour\"].apply(lambda x: 1 if (7 <= x <= 9 or 17 <= x <= 19) else 0)\n"
     ]
    }
   ],
   "source": [
    "# Create a feature for rush hours (morning & evening rush)\n",
    "df[\"rush_hour\"] = df[\"hour\"].apply(lambda x: 1 if (7 <= x <= 9 or 17 <= x <= 19) else 0)"
   ]
  },
  {
   "cell_type": "code",
   "execution_count": 123,
   "id": "c64dce01-acd6-4f03-9d40-26203710dd0f",
   "metadata": {},
   "outputs": [],
   "source": [
    "df.to_csv(\"cleaned_taxi_data.csv\", index=False)\n"
   ]
  },
  {
   "cell_type": "code",
   "execution_count": null,
   "id": "eee3b2ec-2351-4128-b3ce-d0579e8bc822",
   "metadata": {},
   "outputs": [],
   "source": []
  }
 ],
 "metadata": {
  "kernelspec": {
   "display_name": "Python 3 (ipykernel)",
   "language": "python",
   "name": "python3"
  },
  "language_info": {
   "codemirror_mode": {
    "name": "ipython",
    "version": 3
   },
   "file_extension": ".py",
   "mimetype": "text/x-python",
   "name": "python",
   "nbconvert_exporter": "python",
   "pygments_lexer": "ipython3",
   "version": "3.12.4"
  }
 },
 "nbformat": 4,
 "nbformat_minor": 5
}
