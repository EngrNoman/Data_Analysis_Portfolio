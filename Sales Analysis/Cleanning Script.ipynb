{
 "cells": [
  {
   "cell_type": "code",
   "execution_count": 1,
   "id": "651b1976-6da8-42c6-9f9f-c03c591ff6ed",
   "metadata": {},
   "outputs": [],
   "source": [
    "import pandas as pd"
   ]
  },
  {
   "cell_type": "code",
   "execution_count": 28,
   "id": "ec106080-0a6b-4995-9e2d-0b060a58e9b9",
   "metadata": {},
   "outputs": [
    {
     "data": {
      "text/html": [
       "<div>\n",
       "<style scoped>\n",
       "    .dataframe tbody tr th:only-of-type {\n",
       "        vertical-align: middle;\n",
       "    }\n",
       "\n",
       "    .dataframe tbody tr th {\n",
       "        vertical-align: top;\n",
       "    }\n",
       "\n",
       "    .dataframe thead th {\n",
       "        text-align: right;\n",
       "    }\n",
       "</style>\n",
       "<table border=\"1\" class=\"dataframe\">\n",
       "  <thead>\n",
       "    <tr style=\"text-align: right;\">\n",
       "      <th></th>\n",
       "      <th>order_id</th>\n",
       "      <th>date</th>\n",
       "      <th>product</th>\n",
       "      <th>category</th>\n",
       "      <th>price</th>\n",
       "      <th>quantity</th>\n",
       "      <th>total_sales</th>\n",
       "      <th>customer</th>\n",
       "      <th>region</th>\n",
       "      <th>salesperson</th>\n",
       "    </tr>\n",
       "  </thead>\n",
       "  <tbody>\n",
       "    <tr>\n",
       "      <th>0</th>\n",
       "      <td>1481</td>\n",
       "      <td>2024-11-23</td>\n",
       "      <td>Microwave</td>\n",
       "      <td>Home Appliances</td>\n",
       "      <td>1276.0</td>\n",
       "      <td>wrong_quantity</td>\n",
       "      <td>1276.0</td>\n",
       "      <td>Sean</td>\n",
       "      <td>West</td>\n",
       "      <td>Mark</td>\n",
       "    </tr>\n",
       "    <tr>\n",
       "      <th>1</th>\n",
       "      <td>1450</td>\n",
       "      <td>2024-07-04</td>\n",
       "      <td>Washing Machine</td>\n",
       "      <td>Home Appliances</td>\n",
       "      <td>931.0</td>\n",
       "      <td>4.0</td>\n",
       "      <td>3724.0</td>\n",
       "      <td>Joseph</td>\n",
       "      <td>West</td>\n",
       "      <td>Mark</td>\n",
       "    </tr>\n",
       "    <tr>\n",
       "      <th>2</th>\n",
       "      <td>1476</td>\n",
       "      <td>2024-07-08</td>\n",
       "      <td>NaN</td>\n",
       "      <td>Electronics</td>\n",
       "      <td>232.0</td>\n",
       "      <td>2.0</td>\n",
       "      <td>464.0</td>\n",
       "      <td>Thomas</td>\n",
       "      <td>South</td>\n",
       "      <td>Mark</td>\n",
       "    </tr>\n",
       "    <tr>\n",
       "      <th>3</th>\n",
       "      <td>1435</td>\n",
       "      <td>2025-01-05</td>\n",
       "      <td>Jacket</td>\n",
       "      <td>Fashion</td>\n",
       "      <td>112.0</td>\n",
       "      <td>4.0</td>\n",
       "      <td>NaN</td>\n",
       "      <td>Noah</td>\n",
       "      <td>North</td>\n",
       "      <td>Michael</td>\n",
       "    </tr>\n",
       "    <tr>\n",
       "      <th>4</th>\n",
       "      <td>1369</td>\n",
       "      <td>2024-06-17</td>\n",
       "      <td>Vacuum Cleaner</td>\n",
       "      <td>Home Appliances</td>\n",
       "      <td>1106.0</td>\n",
       "      <td>5.0</td>\n",
       "      <td>5530.0</td>\n",
       "      <td>Jesse</td>\n",
       "      <td>West</td>\n",
       "      <td>Lisa</td>\n",
       "    </tr>\n",
       "  </tbody>\n",
       "</table>\n",
       "</div>"
      ],
      "text/plain": [
       "   order_id        date          product         category   price  \\\n",
       "0      1481  2024-11-23        Microwave  Home Appliances  1276.0   \n",
       "1      1450  2024-07-04  Washing Machine  Home Appliances   931.0   \n",
       "2      1476  2024-07-08              NaN      Electronics   232.0   \n",
       "3      1435  2025-01-05           Jacket          Fashion   112.0   \n",
       "4      1369  2024-06-17   Vacuum Cleaner  Home Appliances  1106.0   \n",
       "\n",
       "         quantity  total_sales customer region salesperson  \n",
       "0  wrong_quantity       1276.0     Sean   West        Mark  \n",
       "1             4.0       3724.0   Joseph   West        Mark  \n",
       "2             2.0        464.0   Thomas  South        Mark  \n",
       "3             4.0          NaN     Noah  North     Michael  \n",
       "4             5.0       5530.0    Jesse   West        Lisa  "
      ]
     },
     "execution_count": 28,
     "metadata": {},
     "output_type": "execute_result"
    }
   ],
   "source": [
    "df = pd.read_csv('uncleaned_sales_data_500.csv')\n",
    "df.head()"
   ]
  },
  {
   "cell_type": "code",
   "execution_count": 56,
   "id": "4e3d3c79-6ec7-415e-a049-ea52bb915c14",
   "metadata": {},
   "outputs": [
    {
     "name": "stdout",
     "output_type": "stream",
     "text": [
      "<class 'pandas.core.frame.DataFrame'>\n",
      "Index: 408 entries, 1 to 509\n",
      "Data columns (total 10 columns):\n",
      " #   Column       Non-Null Count  Dtype  \n",
      "---  ------       --------------  -----  \n",
      " 0   order_id     408 non-null    int64  \n",
      " 1   date         408 non-null    object \n",
      " 2   product      408 non-null    object \n",
      " 3   category     408 non-null    object \n",
      " 4   price        408 non-null    float64\n",
      " 5   quantity     408 non-null    float64\n",
      " 6   total_sales  408 non-null    float64\n",
      " 7   customer     408 non-null    object \n",
      " 8   region       408 non-null    object \n",
      " 9   salesperson  408 non-null    object \n",
      "dtypes: float64(3), int64(1), object(6)\n",
      "memory usage: 35.1+ KB\n"
     ]
    }
   ],
   "source": [
    "df.info()"
   ]
  },
  {
   "cell_type": "code",
   "execution_count": 34,
   "id": "e55838b1-21be-4161-a0e0-51cc8d00cf0d",
   "metadata": {},
   "outputs": [
    {
     "data": {
      "text/plain": [
       "order_id       0\n",
       "date           0\n",
       "product        0\n",
       "category       0\n",
       "price          0\n",
       "quantity       0\n",
       "total_sales    0\n",
       "customer       0\n",
       "region         0\n",
       "salesperson    0\n",
       "dtype: int64"
      ]
     },
     "execution_count": 34,
     "metadata": {},
     "output_type": "execute_result"
    }
   ],
   "source": [
    "df.isnull().sum()"
   ]
  },
  {
   "cell_type": "code",
   "execution_count": 32,
   "id": "de782a89-cfb0-4742-bed1-155fc5147a70",
   "metadata": {},
   "outputs": [],
   "source": [
    "df = df.dropna()"
   ]
  },
  {
   "cell_type": "code",
   "execution_count": 36,
   "id": "7b5761de-5915-4ad0-a5d9-ada1243b1236",
   "metadata": {},
   "outputs": [],
   "source": [
    "df['price'] = pd.to_numeric(df['price'] , errors ='coerce')\n",
    "df['quantity'] = pd.to_numeric(df['quantity'] , errors = 'coerce')"
   ]
  },
  {
   "cell_type": "code",
   "execution_count": 38,
   "id": "1d51bef6-c204-44d1-a15d-40d7f3b42615",
   "metadata": {},
   "outputs": [],
   "source": [
    "df['total_sales'] = df['price'] * df['quantity']"
   ]
  },
  {
   "cell_type": "code",
   "execution_count": 58,
   "id": "75e8d3ec-f947-4a4e-9af2-8bd9dc7806a7",
   "metadata": {},
   "outputs": [
    {
     "data": {
      "text/html": [
       "<div>\n",
       "<style scoped>\n",
       "    .dataframe tbody tr th:only-of-type {\n",
       "        vertical-align: middle;\n",
       "    }\n",
       "\n",
       "    .dataframe tbody tr th {\n",
       "        vertical-align: top;\n",
       "    }\n",
       "\n",
       "    .dataframe thead th {\n",
       "        text-align: right;\n",
       "    }\n",
       "</style>\n",
       "<table border=\"1\" class=\"dataframe\">\n",
       "  <thead>\n",
       "    <tr style=\"text-align: right;\">\n",
       "      <th></th>\n",
       "      <th>order_id</th>\n",
       "      <th>date</th>\n",
       "      <th>product</th>\n",
       "      <th>category</th>\n",
       "      <th>price</th>\n",
       "      <th>quantity</th>\n",
       "      <th>total_sales</th>\n",
       "      <th>customer</th>\n",
       "      <th>region</th>\n",
       "      <th>salesperson</th>\n",
       "    </tr>\n",
       "  </thead>\n",
       "  <tbody>\n",
       "    <tr>\n",
       "      <th>1</th>\n",
       "      <td>1450</td>\n",
       "      <td>2024-07-04</td>\n",
       "      <td>Washing Machine</td>\n",
       "      <td>Home Appliances</td>\n",
       "      <td>931.0</td>\n",
       "      <td>4.0</td>\n",
       "      <td>3724.0</td>\n",
       "      <td>Joseph</td>\n",
       "      <td>West</td>\n",
       "      <td>Mark</td>\n",
       "    </tr>\n",
       "    <tr>\n",
       "      <th>4</th>\n",
       "      <td>1369</td>\n",
       "      <td>2024-06-17</td>\n",
       "      <td>Vacuum Cleaner</td>\n",
       "      <td>Home Appliances</td>\n",
       "      <td>1106.0</td>\n",
       "      <td>5.0</td>\n",
       "      <td>5530.0</td>\n",
       "      <td>Jesse</td>\n",
       "      <td>West</td>\n",
       "      <td>Lisa</td>\n",
       "    </tr>\n",
       "    <tr>\n",
       "      <th>5</th>\n",
       "      <td>1056</td>\n",
       "      <td>2024-06-29</td>\n",
       "      <td>Laptop</td>\n",
       "      <td>Electronics</td>\n",
       "      <td>717.0</td>\n",
       "      <td>1.0</td>\n",
       "      <td>717.0</td>\n",
       "      <td>Andrew</td>\n",
       "      <td>South</td>\n",
       "      <td>Michael</td>\n",
       "    </tr>\n",
       "    <tr>\n",
       "      <th>8</th>\n",
       "      <td>1470</td>\n",
       "      <td>2024-08-19</td>\n",
       "      <td>TV</td>\n",
       "      <td>Electronics</td>\n",
       "      <td>1416.0</td>\n",
       "      <td>2.0</td>\n",
       "      <td>2832.0</td>\n",
       "      <td>Stephen</td>\n",
       "      <td>North</td>\n",
       "      <td>Emily</td>\n",
       "    </tr>\n",
       "    <tr>\n",
       "      <th>9</th>\n",
       "      <td>1348</td>\n",
       "      <td>2024-04-13</td>\n",
       "      <td>Blender</td>\n",
       "      <td>Home Appliances</td>\n",
       "      <td>928.0</td>\n",
       "      <td>2.0</td>\n",
       "      <td>1856.0</td>\n",
       "      <td>Raymond</td>\n",
       "      <td>East</td>\n",
       "      <td>Emily</td>\n",
       "    </tr>\n",
       "  </tbody>\n",
       "</table>\n",
       "</div>"
      ],
      "text/plain": [
       "   order_id        date          product         category   price  quantity  \\\n",
       "1      1450  2024-07-04  Washing Machine  Home Appliances   931.0       4.0   \n",
       "4      1369  2024-06-17   Vacuum Cleaner  Home Appliances  1106.0       5.0   \n",
       "5      1056  2024-06-29           Laptop      Electronics   717.0       1.0   \n",
       "8      1470  2024-08-19               TV      Electronics  1416.0       2.0   \n",
       "9      1348  2024-04-13          Blender  Home Appliances   928.0       2.0   \n",
       "\n",
       "   total_sales customer region salesperson  \n",
       "1       3724.0   Joseph   West        Mark  \n",
       "4       5530.0    Jesse   West        Lisa  \n",
       "5        717.0   Andrew  South     Michael  \n",
       "8       2832.0  Stephen  North       Emily  \n",
       "9       1856.0  Raymond   East       Emily  "
      ]
     },
     "execution_count": 58,
     "metadata": {},
     "output_type": "execute_result"
    }
   ],
   "source": [
    "df.head()"
   ]
  },
  {
   "cell_type": "code",
   "execution_count": 44,
   "id": "0ce13ece-8d46-45e4-a08a-0fd60bc9623a",
   "metadata": {},
   "outputs": [],
   "source": [
    "df = df.dropna(subset=[\"price\", \"quantity\", \"total_sales\"])"
   ]
  },
  {
   "cell_type": "code",
   "execution_count": 48,
   "id": "2175f6a0-8276-466c-9d2f-7a1546baccbf",
   "metadata": {},
   "outputs": [
    {
     "data": {
      "text/plain": [
       "4170"
      ]
     },
     "execution_count": 48,
     "metadata": {},
     "output_type": "execute_result"
    }
   ],
   "source": [
    "df.size"
   ]
  },
  {
   "cell_type": "code",
   "execution_count": 50,
   "id": "33d9988e-4a97-4d26-90cf-3b4187056197",
   "metadata": {},
   "outputs": [],
   "source": [
    "df = df.drop_duplicates()"
   ]
  },
  {
   "cell_type": "code",
   "execution_count": 52,
   "id": "59392c1e-6515-4fa6-929f-838184ce3b10",
   "metadata": {},
   "outputs": [
    {
     "data": {
      "text/plain": [
       "4080"
      ]
     },
     "execution_count": 52,
     "metadata": {},
     "output_type": "execute_result"
    }
   ],
   "source": [
    "df.size"
   ]
  },
  {
   "cell_type": "code",
   "execution_count": 54,
   "id": "8f467eb6-7f90-44d0-9c0b-944401815b02",
   "metadata": {},
   "outputs": [],
   "source": [
    "df['date'] = pd.to_datetime(df['date'] , errors= 'coerce')\n",
    "df['date'] = df['date'].dt.strftime('%Y-%m-%d')"
   ]
  },
  {
   "cell_type": "code",
   "execution_count": 60,
   "id": "fb6a04f3-d601-448a-b038-6febe1f7e1f1",
   "metadata": {},
   "outputs": [],
   "source": [
    "cleaned_file_path = 'cleaned_sales_data.csv'\n",
    "df.to_csv(cleaned_file_path , index = False)"
   ]
  },
  {
   "cell_type": "code",
   "execution_count": null,
   "id": "5c8fb0ce-9bcc-4cf9-87e6-bdbf909c49e0",
   "metadata": {},
   "outputs": [],
   "source": []
  }
 ],
 "metadata": {
  "kernelspec": {
   "display_name": "Python 3 (ipykernel)",
   "language": "python",
   "name": "python3"
  },
  "language_info": {
   "codemirror_mode": {
    "name": "ipython",
    "version": 3
   },
   "file_extension": ".py",
   "mimetype": "text/x-python",
   "name": "python",
   "nbconvert_exporter": "python",
   "pygments_lexer": "ipython3",
   "version": "3.12.4"
  }
 },
 "nbformat": 4,
 "nbformat_minor": 5
}
